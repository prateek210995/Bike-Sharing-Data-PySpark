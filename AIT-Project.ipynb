{
 "cells": [
  {
   "cell_type": "code",
   "execution_count": 1,
   "metadata": {},
   "outputs": [],
   "source": [
    "import findspark\n",
    "findspark.init('/home/ubuntu/spark-2.4.5-bin-hadoop2.7')\n",
    "from pyspark.sql import SparkSession"
   ]
  },
  {
   "cell_type": "code",
   "execution_count": 2,
   "metadata": {},
   "outputs": [],
   "source": [
    "spark = SparkSession.builder.appName('AIT614').getOrCreate()"
   ]
  },
  {
   "cell_type": "code",
   "execution_count": 3,
   "metadata": {},
   "outputs": [],
   "source": [
    "from pyspark.sql.types import IntegerType, StringType, BooleanType, FloatType, StructType, StructField, DoubleType"
   ]
  },
  {
   "cell_type": "code",
   "execution_count": 4,
   "metadata": {},
   "outputs": [],
   "source": [
    "structsch = [StructField('instant', IntegerType(), True),\n",
    "             StructField('dteday', StringType(), True),\n",
    "             StructField('season', IntegerType(), True),\n",
    "             StructField('yr', IntegerType(), True),\n",
    "             StructField('mnth', IntegerType(), True),\n",
    "             StructField('hr', IntegerType(), True),\n",
    "             StructField('holiday', IntegerType(), True),\n",
    "             StructField('weekday', IntegerType(), True),\n",
    "             StructField('workingday', IntegerType(), True),\n",
    "             StructField('weathersit', IntegerType(), True),\n",
    "             StructField('temp', FloatType(), True),\n",
    "             StructField('atemp', FloatType(), True),\n",
    "             StructField('hum', FloatType(), True),\n",
    "             StructField('windspeed', FloatType(), True),\n",
    "             StructField('casual', IntegerType(), True),\n",
    "             StructField('registered', IntegerType(), True),\n",
    "             StructField('cnt', IntegerType(), True)]"
   ]
  },
  {
   "cell_type": "code",
   "execution_count": 5,
   "metadata": {},
   "outputs": [
    {
     "name": "stdout",
     "output_type": "stream",
     "text": [
      "root\n",
      " |-- instant: integer (nullable = true)\n",
      " |-- dteday: string (nullable = true)\n",
      " |-- season: integer (nullable = true)\n",
      " |-- yr: integer (nullable = true)\n",
      " |-- mnth: integer (nullable = true)\n",
      " |-- hr: integer (nullable = true)\n",
      " |-- holiday: integer (nullable = true)\n",
      " |-- weekday: integer (nullable = true)\n",
      " |-- workingday: integer (nullable = true)\n",
      " |-- weathersit: integer (nullable = true)\n",
      " |-- temp: float (nullable = true)\n",
      " |-- atemp: float (nullable = true)\n",
      " |-- hum: float (nullable = true)\n",
      " |-- windspeed: float (nullable = true)\n",
      " |-- casual: integer (nullable = true)\n",
      " |-- registered: integer (nullable = true)\n",
      " |-- cnt: integer (nullable = true)\n",
      "\n"
     ]
    }
   ],
   "source": [
    "myschema = StructType(fields = structsch)\n",
    "df = spark.read.csv('hour.csv', schema = myschema, header = True)\n",
    "df.printSchema()"
   ]
  },
  {
   "cell_type": "code",
   "execution_count": 6,
   "metadata": {},
   "outputs": [],
   "source": [
    "from pyspark.sql.functions import to_date"
   ]
  },
  {
   "cell_type": "code",
   "execution_count": 7,
   "metadata": {},
   "outputs": [
    {
     "name": "stdout",
     "output_type": "stream",
     "text": [
      "root\n",
      " |-- instant: integer (nullable = true)\n",
      " |-- dteday: date (nullable = true)\n",
      " |-- season: integer (nullable = true)\n",
      " |-- yr: integer (nullable = true)\n",
      " |-- mnth: integer (nullable = true)\n",
      " |-- hr: integer (nullable = true)\n",
      " |-- holiday: integer (nullable = true)\n",
      " |-- weekday: integer (nullable = true)\n",
      " |-- workingday: integer (nullable = true)\n",
      " |-- weathersit: integer (nullable = true)\n",
      " |-- temp: float (nullable = true)\n",
      " |-- atemp: float (nullable = true)\n",
      " |-- hum: float (nullable = true)\n",
      " |-- windspeed: float (nullable = true)\n",
      " |-- casual: integer (nullable = true)\n",
      " |-- registered: integer (nullable = true)\n",
      " |-- cnt: integer (nullable = true)\n",
      "\n"
     ]
    }
   ],
   "source": [
    "newdf = df.withColumn('dteday', to_date('dteday'))\n",
    "newdf.printSchema()"
   ]
  },
  {
   "cell_type": "code",
   "execution_count": 8,
   "metadata": {},
   "outputs": [],
   "source": [
    "from pyspark.ml.stat import Correlation\n",
    "from pyspark.ml.feature import VectorAssembler"
   ]
  },
  {
   "cell_type": "code",
   "execution_count": 9,
   "metadata": {},
   "outputs": [],
   "source": [
    "asmblr = VectorAssembler(inputCols=newdf.columns[2:17], outputCol=\"myfeatures\")\n",
    "col_vect = asmblr.transform(newdf).select(\"myfeatures\")\n",
    "corrmatrix = Correlation.corr(col_vect,\"myfeatures\").collect()[0][0]\n",
    "matrix = corrmatrix.toArray().tolist()"
   ]
  },
  {
   "cell_type": "code",
   "execution_count": 10,
   "metadata": {
    "scrolled": true
   },
   "outputs": [
    {
     "name": "stdout",
     "output_type": "stream",
     "text": [
      "[[1.0, -0.010742486207830642, 0.8303858922042, -0.006116900866181412, -0.00958452586919802, -0.0023353497250265453, 0.013743101747069972, -0.01452355213911341, 0.31202523866985576, 0.3193798098683391, 0.15062474438557363, -0.1497727509876121, 0.12020644735002411, 0.17422563340237332, 0.17805573098268168], [-0.010742486207830642, 1.0, -0.010472928816710813, -0.003867004949332627, 0.006691616608159507, -0.004484851244104465, -0.002196005414265235, -0.019156853236269963, 0.04091337925304558, 0.03922159704013151, -0.08354642120302026, -0.008739532969748236, 0.14277852832924165, 0.25368430980716933, 0.2504948988596516], [0.8303858922042, -0.010472928816710813, 1.0, -0.005771908829884764, 0.018430325232945105, 0.010400061080367347, -0.0034769217948620082, 0.005399521906100094, 0.20169149453442334, 0.20809613051515455, 0.1644114429147225, -0.13538632318894428, 0.06845730074875549, 0.12227296677307097, 0.12063776021315172], [-0.006116900866181412, -0.003867004949332627, -0.005771908829884764, 1.0, 0.0004791360364797484, -0.0034977394383240287, 0.0022849981041429468, -0.020202528398654707, 0.13760349300013366, 0.13374996516754367, -0.2764978276441696, 0.13725156703449898, 0.30120173025653335, 0.37414070983777153, 0.3940714977829431], [-0.00958452586919802, 0.006691616608159507, 0.018430325232945105, 0.0004791360364797484, 1.0, -0.1020877908359612, -0.25247136958183763, -0.017036113360591014, -0.027340476781223446, -0.030972738293243342, -0.01058846559654403, 0.003987631002425086, 0.031563628373959034, -0.047345424408472794, -0.030927303249110707], [-0.0023353497250265453, -0.004484851244104465, 0.010400061080367347, -0.0034977394383240287, -0.1020877908359612, 1.0, 0.0359550713984482, 0.0033107397039288658, -0.0017949278913355177, -0.008820946010283883, -0.03715827037183286, 0.011501544698010142, 0.03272141548201918, 0.02157788847300709, 0.026899859990843454], [0.013743101747069972, -0.002196005414265235, -0.0034769217948620082, 0.0022849981041429468, -0.25247136958183763, 0.0359550713984482, 1.0, 0.044672223797478684, 0.055390318352483515, 0.054667235048770496, 0.015687511569241207, -0.01182978875974831, -0.30094248602592194, 0.13432579113379847, 0.03028436774790875], [-0.01452355213911341, -0.019156853236269963, 0.005399521906100094, -0.020202528398654707, -0.017036113360591014, 0.0033107397039288658, 0.044672223797478684, 1.0, -0.10263993295114363, -0.10556311005460968, 0.4181303299244782, 0.026225651832736452, -0.15262788466439645, -0.12096551971789324, -0.14242613813809943], [0.31202523866985576, 0.04091337925304558, 0.20169149453442334, 0.13760349300013366, -0.027340476781223446, -0.0017949278913355177, 0.055390318352483515, -0.10263993295114363, 1.0, 0.9876721384626747, -0.06988139129867275, -0.023125263970553075, 0.45961564478551753, 0.3353608484779012, 0.4047722751007129], [0.3193798098683391, 0.03922159704013151, 0.20809613051515455, 0.13374996516754367, -0.030972738293243342, -0.008820946010283883, 0.054667235048770496, -0.10556311005460968, 0.9876721384626747, 1.0, -0.051917701872270766, -0.06233604241043654, 0.4540800688211588, 0.3325586383773242, 0.4009293075549554], [0.15062474438557363, -0.08354642120302026, 0.1644114429147225, -0.2764978276441696, -0.01058846559654403, -0.03715827037183286, 0.015687511569241207, 0.4181303299244782, -0.06988139129867275, -0.051917701872270766, 1.0, -0.29010489607921863, -0.34702809210005553, -0.2739331185357222, -0.32291074065999764], [-0.1497727509876121, -0.008739532969748236, -0.13538632318894428, 0.13725156703449898, 0.003987631002425086, 0.011501544698010142, -0.01182978875974831, 0.026225651832736452, -0.023125263970553075, -0.06233604241043654, -0.29010489607921863, 1.0, 0.09028677500289897, 0.08232084753546082, 0.09323378404436734], [0.12020644735002411, 0.14277852832924165, 0.06845730074875549, 0.30120173025653335, 0.031563628373959034, 0.03272141548201918, -0.30094248602592194, -0.15262788466439645, 0.45961564478551753, 0.4540800688211588, -0.34702809210005553, 0.09028677500289897, 1.0, 0.5066177004294627, 0.6945640779749478], [0.17422563340237332, 0.25368430980716933, 0.12227296677307097, 0.37414070983777153, -0.047345424408472794, 0.02157788847300709, 0.13432579113379847, -0.12096551971789324, 0.3353608484779012, 0.3325586383773242, -0.2739331185357222, 0.08232084753546082, 0.5066177004294627, 1.0, 0.9721507308642993], [0.17805573098268168, 0.2504948988596516, 0.12063776021315172, 0.3940714977829431, -0.030927303249110707, 0.026899859990843454, 0.03028436774790875, -0.14242613813809943, 0.4047722751007129, 0.4009293075549554, -0.32291074065999764, 0.09323378404436734, 0.6945640779749478, 0.9721507308642993, 1.0]]\n"
     ]
    }
   ],
   "source": [
    "print(matrix)"
   ]
  },
  {
   "cell_type": "code",
   "execution_count": 11,
   "metadata": {},
   "outputs": [],
   "source": [
    "from matplotlib import pyplot as plt"
   ]
  },
  {
   "cell_type": "code",
   "execution_count": 12,
   "metadata": {},
   "outputs": [],
   "source": [
    "def plot_corr_matrix(corrs,atrbts,fino):\n",
    "    figure=plt.figure(fino)\n",
    "    axis=figure.add_subplot(111)\n",
    "    axis.set_title(\"Correlation Matrix\")\n",
    "    axis.set_xticklabels(['']+atrbts)\n",
    "    axis.set_yticklabels(['']+atrbts)\n",
    "    caxis=axis.matshow(corrs,vmax=1,vmin=-1)\n",
    "    figure.colorbar(caxis)\n",
    "    plt.show()"
   ]
  },
  {
   "cell_type": "code",
   "execution_count": 13,
   "metadata": {
    "scrolled": true
   },
   "outputs": [
    {
     "data": {
      "image/png": "[encoded data removed]",
      "text/plain": [
       "<Figure size 432x288 with 2 Axes>"
      ]
     },
     "metadata": {
      "needs_background": "light"
     },
     "output_type": "display_data"
    }
   ],
   "source": [
    "plot_corr_matrix(matrix, newdf.columns[1:17], 234)"
   ]
  },
  {
   "cell_type": "code",
   "execution_count": 14,
   "metadata": {},
   "outputs": [
    {
     "name": "stdout",
     "output_type": "stream",
     "text": [
      "+-------+-----------------+------------------+------------------+------------------+------------------+--------------------+-----------------+------------------+------------------+-------------------+------------------+------------------+-------------------+-----------------+------------------+------------------+\n",
      "|summary|          instant|            season|                yr|              mnth|                hr|             holiday|          weekday|        workingday|        weathersit|               temp|             atemp|               hum|          windspeed|           casual|        registered|               cnt|\n",
      "+-------+-----------------+------------------+------------------+------------------+------------------+--------------------+-----------------+------------------+------------------+-------------------+------------------+------------------+-------------------+-----------------+------------------+------------------+\n",
      "|  count|            17379|             17379|             17379|             17379|             17379|               17379|            17379|             17379|             17379|              17379|             17379|             17379|              17379|            17379|             17379|             17379|\n",
      "|   mean|           8690.0|2.5016399102364923|0.5025605615973301| 6.537775476149376|11.546751826917545|0.028770355026181024|3.003682605443351|0.6827205247712756| 1.425283387997008| 0.4969871704046986|0.4757751056327374| 0.627228837753304|0.19009760539747023|35.67621842453536|153.78686920996606|189.46308763450142|\n",
      "| stddev|5017.029499614288|  1.10691813944808|0.5000078290910193|3.4387757137501724|6.9144050952644776|  0.1671652763843717|2.005771456110986|0.4654306335238818|0.6393568777542525|0.19255612239235756|0.1718502172731489|0.1929298330537638|0.12234022926320468|49.30503038705298|151.35728591258325| 181.3875990918646|\n",
      "|    min|                1|                 1|                 0|                 1|                 0|                   0|                0|                 0|                 1|               0.02|               0.0|               0.0|                0.0|                0|                 0|                 1|\n",
      "|    max|            17379|                 4|                 1|                12|                23|                   1|                6|                 1|                 4|                1.0|               1.0|               1.0|             0.8507|              367|               886|               977|\n",
      "+-------+-----------------+------------------+------------------+------------------+------------------+--------------------+-----------------+------------------+------------------+-------------------+------------------+------------------+-------------------+-----------------+------------------+------------------+\n",
      "\n"
     ]
    }
   ],
   "source": [
    "newdf.describe().show()"
   ]
  },
  {
   "cell_type": "code",
   "execution_count": null,
   "metadata": {},
   "outputs": [],
   "source": []
  },
  {
   "cell_type": "code",
   "execution_count": 15,
   "metadata": {},
   "outputs": [
    {
     "data": {
      "text/plain": [
       "['season',\n",
       " 'yr',\n",
       " 'mnth',\n",
       " 'hr',\n",
       " 'holiday',\n",
       " 'weekday',\n",
       " 'workingday',\n",
       " 'weathersit',\n",
       " 'temp',\n",
       " 'atemp',\n",
       " 'hum',\n",
       " 'windspeed',\n",
       " 'casual',\n",
       " 'registered',\n",
       " 'cnt']"
      ]
     },
     "execution_count": 15,
     "metadata": {},
     "output_type": "execute_result"
    }
   ],
   "source": [
    "scrapdf = newdf.drop('instant','dteday')\n",
    "scrapdf.columns"
   ]
  },
  {
   "cell_type": "code",
   "execution_count": 16,
   "metadata": {},
   "outputs": [],
   "source": [
    "from pyspark.ml.regression import LinearRegression\n",
    "from pyspark.ml.linalg import Vectors\n",
    "from pyspark.ml.feature import StringIndexer"
   ]
  },
  {
   "cell_type": "code",
   "execution_count": 17,
   "metadata": {},
   "outputs": [],
   "source": [
    "#--Feature Creation---\n",
    "modelfeatures = VectorAssembler(inputCols=['season','yr','mnth','hr','holiday','weekday','workingday',\n",
    "                                            'weathersit','temp','atemp','hum','windspeed','casual','registered'],\n",
    "                                 outputCol= 'newcolumn')"
   ]
  },
  {
   "cell_type": "code",
   "execution_count": 18,
   "metadata": {},
   "outputs": [
    {
     "name": "stdout",
     "output_type": "stream",
     "text": [
      "+------+---+----+---+-------+-------+----------+----------+----+------+----+---------+------+----------+---+--------------------+\n",
      "|season| yr|mnth| hr|holiday|weekday|workingday|weathersit|temp| atemp| hum|windspeed|casual|registered|cnt|           newcolumn|\n",
      "+------+---+----+---+-------+-------+----------+----------+----+------+----+---------+------+----------+---+--------------------+\n",
      "|     1|  0|   1|  0|      0|      6|         0|         1|0.24|0.2879|0.81|      0.0|     3|        13| 16|[1.0,0.0,1.0,0.0,...|\n",
      "|     1|  0|   1|  1|      0|      6|         0|         1|0.22|0.2727| 0.8|      0.0|     8|        32| 40|[1.0,0.0,1.0,1.0,...|\n",
      "|     1|  0|   1|  2|      0|      6|         0|         1|0.22|0.2727| 0.8|      0.0|     5|        27| 32|[1.0,0.0,1.0,2.0,...|\n",
      "|     1|  0|   1|  3|      0|      6|         0|         1|0.24|0.2879|0.75|      0.0|     3|        10| 13|[1.0,0.0,1.0,3.0,...|\n",
      "|     1|  0|   1|  4|      0|      6|         0|         1|0.24|0.2879|0.75|      0.0|     0|         1|  1|[1.0,0.0,1.0,4.0,...|\n",
      "+------+---+----+---+-------+-------+----------+----------+----+------+----+---------+------+----------+---+--------------------+\n",
      "only showing top 5 rows\n",
      "\n"
     ]
    }
   ],
   "source": [
    "op = modelfeatures.transform(scrapdf)\n",
    "op.show(5)"
   ]
  },
  {
   "cell_type": "code",
   "execution_count": 19,
   "metadata": {},
   "outputs": [
    {
     "name": "stdout",
     "output_type": "stream",
     "text": [
      "+--------------------+---+\n",
      "|           newcolumn|cnt|\n",
      "+--------------------+---+\n",
      "|[1.0,0.0,1.0,0.0,...| 16|\n",
      "|[1.0,0.0,1.0,1.0,...| 40|\n",
      "|[1.0,0.0,1.0,2.0,...| 32|\n",
      "|[1.0,0.0,1.0,3.0,...| 13|\n",
      "|[1.0,0.0,1.0,4.0,...|  1|\n",
      "+--------------------+---+\n",
      "only showing top 5 rows\n",
      "\n"
     ]
    }
   ],
   "source": [
    "modeldf = op.select('newcolumn','cnt')\n",
    "modeldf.show(5)"
   ]
  },
  {
   "cell_type": "code",
   "execution_count": 20,
   "metadata": {},
   "outputs": [
    {
     "name": "stdout",
     "output_type": "stream",
     "text": [
      "+--------------------+-----+\n",
      "|           newcolumn|label|\n",
      "+--------------------+-----+\n",
      "|[1.0,0.0,1.0,0.0,...| 13.0|\n",
      "|[1.0,0.0,1.0,1.0,...| 37.0|\n",
      "|[1.0,0.0,1.0,2.0,...| 28.0|\n",
      "|[1.0,0.0,1.0,3.0,...| 12.0|\n",
      "|[1.0,0.0,1.0,4.0,...|  7.0|\n",
      "+--------------------+-----+\n",
      "only showing top 5 rows\n",
      "\n"
     ]
    }
   ],
   "source": [
    "#------- Label Creation-----------\n",
    "cntIndexer = StringIndexer(inputCol=\"cnt\", outputCol=\"label\")\n",
    "labeldf = cntIndexer.fit(modeldf).transform(modeldf)\n",
    "labeldf = labeldf.select('newcolumn','label')\n",
    "labeldf.show(5)"
   ]
  },
  {
   "cell_type": "code",
   "execution_count": 21,
   "metadata": {},
   "outputs": [],
   "source": [
    "#Data Sampling\n",
    "traindata2, validdata2 = labeldf.randomSplit([0.70,0.30], seed = 1234)"
   ]
  },
  {
   "cell_type": "code",
   "execution_count": null,
   "metadata": {},
   "outputs": [],
   "source": []
  },
  {
   "cell_type": "code",
   "execution_count": 22,
   "metadata": {},
   "outputs": [],
   "source": [
    "# Regression Models"
   ]
  },
  {
   "cell_type": "code",
   "execution_count": 23,
   "metadata": {},
   "outputs": [],
   "source": [
    "#Linear Regression Model"
   ]
  },
  {
   "cell_type": "code",
   "execution_count": 24,
   "metadata": {},
   "outputs": [],
   "source": [
    "lmmodel = LinearRegression(featuresCol='newcolumn',labelCol='label',maxIter=10,regParam=0.3,\n",
    "                           elasticNetParam=0.8).fit(traindata2)\n",
    "summary_train = lmmodel.summary"
   ]
  },
  {
   "cell_type": "code",
   "execution_count": 25,
   "metadata": {},
   "outputs": [
    {
     "name": "stdout",
     "output_type": "stream",
     "text": [
      "RMSE: 46.020719\n"
     ]
    }
   ],
   "source": [
    "print(\"RMSE: %f\" % summary_train.rootMeanSquaredError)"
   ]
  },
  {
   "cell_type": "code",
   "execution_count": 26,
   "metadata": {},
   "outputs": [
    {
     "name": "stdout",
     "output_type": "stream",
     "text": [
      "R2: 0.930606\n"
     ]
    }
   ],
   "source": [
    "print(\"R2: %f\" % summary_train.r2)"
   ]
  },
  {
   "cell_type": "code",
   "execution_count": null,
   "metadata": {},
   "outputs": [],
   "source": [
    "lmpred = lmmodel.evaluate(validdata2)\n",
    "lmpred.predictions.show(10)"
   ]
  },
  {
   "cell_type": "code",
   "execution_count": null,
   "metadata": {},
   "outputs": [],
   "source": [
    "print(\"RMSE: %f\" % lmpred.rootMeanSquaredError)"
   ]
  },
  {
   "cell_type": "code",
   "execution_count": null,
   "metadata": {},
   "outputs": [],
   "source": [
    "print(\"R2: %f\" % lmpred.r2)"
   ]
  },
  {
   "cell_type": "code",
   "execution_count": null,
   "metadata": {},
   "outputs": [],
   "source": []
  },
  {
   "cell_type": "code",
   "execution_count": null,
   "metadata": {},
   "outputs": [],
   "source": [
    "# Decision Tree Regression"
   ]
  },
  {
   "cell_type": "code",
   "execution_count": null,
   "metadata": {},
   "outputs": [],
   "source": [
    "from pyspark.ml.regression import DecisionTreeRegressor\n",
    "from pyspark.ml.evaluation import RegressionEvaluator"
   ]
  },
  {
   "cell_type": "code",
   "execution_count": null,
   "metadata": {},
   "outputs": [],
   "source": [
    "dtree = DecisionTreeRegressor(featuresCol=\"newcolumn\",labelCol=\"label\")\n",
    "dtmod = dtree.fit(traindata2)\n",
    "dtpred = dtmod.transform(validdata2)\n",
    "dtpred.select(\"prediction\", \"label\", \"newcolumn\").show(5)"
   ]
  },
  {
   "cell_type": "code",
   "execution_count": null,
   "metadata": {},
   "outputs": [],
   "source": [
    "dtevaluator = RegressionEvaluator(labelCol=\"label\", predictionCol=\"prediction\", metricName=\"rmse\")\n",
    "dtevaluator2 = RegressionEvaluator(labelCol=\"label\", predictionCol=\"prediction\", metricName=\"r2\")\n",
    "dtrmse = dtevaluator.evaluate(dtpred)\n",
    "dtr2 = dtevaluator2.evaluate(dtpred)"
   ]
  },
  {
   "cell_type": "code",
   "execution_count": null,
   "metadata": {},
   "outputs": [],
   "source": [
    "print(\"RMSE on test data = %g\" % dtrmse)"
   ]
  },
  {
   "cell_type": "code",
   "execution_count": null,
   "metadata": {
    "scrolled": true
   },
   "outputs": [],
   "source": [
    "print(\"r2 on test data = %g\" % dtr2)"
   ]
  },
  {
   "cell_type": "code",
   "execution_count": null,
   "metadata": {},
   "outputs": [],
   "source": []
  },
  {
   "cell_type": "code",
   "execution_count": null,
   "metadata": {},
   "outputs": [],
   "source": [
    "# Random Forest Regression Model to predict 'cnt'"
   ]
  },
  {
   "cell_type": "code",
   "execution_count": null,
   "metadata": {},
   "outputs": [],
   "source": [
    "from pyspark.ml.regression import RandomForestRegressor"
   ]
  },
  {
   "cell_type": "code",
   "execution_count": null,
   "metadata": {},
   "outputs": [],
   "source": [
    "rfreg = RandomForestRegressor(featuresCol=\"newcolumn\",labelCol=\"label\", numTrees=500)\n",
    "rfmod = rfreg.fit(traindata2)\n",
    "rfpred = rfmod.transform(validdata2)"
   ]
  },
  {
   "cell_type": "code",
   "execution_count": null,
   "metadata": {},
   "outputs": [],
   "source": [
    "rfpred.select(\"prediction\", \"label\", \"newcolumn\").show(5)"
   ]
  },
  {
   "cell_type": "code",
   "execution_count": null,
   "metadata": {},
   "outputs": [],
   "source": [
    "rfevaluator = RegressionEvaluator(labelCol=\"label\", predictionCol=\"prediction\", metricName=\"rmse\")\n",
    "rfevaluator2 = RegressionEvaluator(labelCol=\"label\", predictionCol=\"prediction\", metricName=\"r2\")\n",
    "rfrmse = rfevaluator.evaluate(rfpred)\n",
    "rfr2 = rfevaluator2.evaluate(rfpred)"
   ]
  },
  {
   "cell_type": "code",
   "execution_count": null,
   "metadata": {},
   "outputs": [],
   "source": [
    "print(\"RMSE on test data = %g\" % rfrmse)"
   ]
  },
  {
   "cell_type": "code",
   "execution_count": null,
   "metadata": {},
   "outputs": [],
   "source": [
    "print(\"r2 on test data = %g\" % rfr2)"
   ]
  },
  {
   "cell_type": "code",
   "execution_count": null,
   "metadata": {},
   "outputs": [],
   "source": []
  },
  {
   "cell_type": "code",
   "execution_count": null,
   "metadata": {},
   "outputs": [],
   "source": [
    "# Gradient Boosting Tree Regression"
   ]
  },
  {
   "cell_type": "code",
   "execution_count": null,
   "metadata": {},
   "outputs": [],
   "source": [
    "from pyspark.ml.regression import GBTRegressor"
   ]
  },
  {
   "cell_type": "code",
   "execution_count": null,
   "metadata": {},
   "outputs": [],
   "source": [
    "gradbt = GBTRegressor(featuresCol=\"newcolumn\", labelCol=\"label\" ,maxIter=10)\n",
    "gbtmod = gradbt.fit(traindata2)\n",
    "gbtpred = gbtmod.transform(validdata2)"
   ]
  },
  {
   "cell_type": "code",
   "execution_count": null,
   "metadata": {},
   "outputs": [],
   "source": [
    "gbtpred.select(\"prediction\", \"label\", \"newcolumn\").show(6)"
   ]
  },
  {
   "cell_type": "code",
   "execution_count": null,
   "metadata": {},
   "outputs": [],
   "source": [
    "gbtevaluator = RegressionEvaluator(labelCol=\"label\", predictionCol=\"prediction\", metricName=\"rmse\")\n",
    "gbtevaluator2 = RegressionEvaluator(labelCol=\"label\", predictionCol=\"prediction\", metricName=\"r2\")\n",
    "gbtrmse = gbtevaluator.evaluate(gbtpred)\n",
    "gbtr2 = gbtevaluator2.evaluate(gbtpred)"
   ]
  },
  {
   "cell_type": "code",
   "execution_count": null,
   "metadata": {},
   "outputs": [],
   "source": [
    "print(\"RMSE on test data = %g\" % gbtrmse)"
   ]
  },
  {
   "cell_type": "code",
   "execution_count": null,
   "metadata": {},
   "outputs": [],
   "source": [
    "print(\"r2 on test data = %g\" % gbtr2)"
   ]
  },
  {
   "cell_type": "code",
   "execution_count": null,
   "metadata": {},
   "outputs": [],
   "source": []
  },
  {
   "cell_type": "code",
   "execution_count": null,
   "metadata": {},
   "outputs": [],
   "source": []
  }
 ],
 "metadata": {
  "kernelspec": {
   "display_name": "Python 3",
   "language": "python",
   "name": "python3"
  },
  "language_info": {
   "codemirror_mode": {
    "name": "ipython",
    "version": 3
   },
   "file_extension": ".py",
   "mimetype": "text/x-python",
   "name": "python",
   "nbconvert_exporter": "python",
   "pygments_lexer": "ipython3",
   "version": "3.6.9"
  }
 },
 "nbformat": 4,
 "nbformat_minor": 4
}
